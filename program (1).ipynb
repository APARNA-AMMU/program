{
 "cells": [
  {
   "cell_type": "code",
   "execution_count": 3,
   "id": "e31e32b0",
   "metadata": {},
   "outputs": [
    {
     "name": "stdout",
     "output_type": "stream",
     "text": [
      "Enter the number to be read: 8\n",
      "1+2+3+4+5+6+7+8= 36\n"
     ]
    }
   ],
   "source": [
    "#python program to read a number n and print the series \"1+2+...+n=\"\n",
    "n=int(input(\"Enter the number to be read: \"))\n",
    "a=[]\n",
    "for i in range(1,n+1):\n",
    "    print(i,sep=\"\",end=\"\")\n",
    "    if(i<n):\n",
    "        print(\"+\",sep=\"\",end=\"\")\n",
    "    a.append(i)\n",
    "print(\"=\",sum(a))\n"
   ]
  },
  {
   "cell_type": "code",
   "execution_count": 11,
   "id": "921ffff3",
   "metadata": {},
   "outputs": [
    {
     "name": "stdout",
     "output_type": "stream",
     "text": [
      "Enter the number of elements in the list 6\n",
      "element is : 9\n",
      "element is : 8\n",
      "element is : 7\n",
      "element is : 5\n",
      "element is : 3\n",
      "element is : 0\n",
      "largest even number is  8\n",
      "largest odd number is  9\n"
     ]
    }
   ],
   "source": [
    "#python program to print largest even and largest odd number in a list\n",
    "n=int(input(\"Enter the number of elements in the list \"))\n",
    "l=[]\n",
    "l1=[]\n",
    "l2=[]\n",
    "for i in range(1,n+1):\n",
    "    a=int(input(\"element is : \"))\n",
    "    l.append(a)\n",
    "for j in l:\n",
    "    if(j%2==0):\n",
    "        l1.append(j)\n",
    "    else:\n",
    "        l2.append(j)\n",
    "print(\"largest even number is \",max(l1))\n",
    "print(\"largest odd number is \",max(l2))"
   ]
  },
  {
   "cell_type": "code",
   "execution_count": 15,
   "id": "88bb14cc",
   "metadata": {},
   "outputs": [
    {
     "name": "stdout",
     "output_type": "stream",
     "text": [
      "enter the number5\n",
      "5  is a prime number\n",
      "enter lower range: 7\n",
      "enter the upper range: 15\n",
      "7\n",
      "7\n",
      "7\n",
      "7\n",
      "7\n",
      "9\n",
      "11\n",
      "11\n",
      "11\n",
      "11\n",
      "11\n",
      "11\n",
      "11\n",
      "11\n",
      "11\n",
      "13\n",
      "13\n",
      "13\n",
      "13\n",
      "13\n",
      "13\n",
      "13\n",
      "13\n",
      "13\n",
      "13\n",
      "13\n",
      "15\n"
     ]
    }
   ],
   "source": [
    "#program to check if a number is a prime number and print all the prime numbers within ranges\n",
    "n=int(input(\"enter the number\"))\n",
    "flag=False\n",
    "if n>1:\n",
    "    for i in range(2,n):\n",
    "        if n%i==0:\n",
    "            flag=True\n",
    "            break\n",
    "    if flag:\n",
    "        print(n,\" is not a prime number\")\n",
    "    else:\n",
    "        print(n,\" is a prime number\")\n",
    "        \n",
    "lower=int(input(\"enter lower range: \"))\n",
    "upper=int(input(\"enter the upper range: \"))\n",
    "\n",
    "for num in range(lower,upper+1):\n",
    "    if num>1:\n",
    "        for i in range(2,num):\n",
    "            if(num%i)==0:\n",
    "                break\n",
    "            else:\n",
    "                print(num)"
   ]
  },
  {
   "cell_type": "code",
   "execution_count": 2,
   "id": "afaa5cc8",
   "metadata": {},
   "outputs": [
    {
     "name": "stdout",
     "output_type": "stream",
     "text": [
      "enter the number: 789\n",
      "789 is not an armstrong number\n"
     ]
    }
   ],
   "source": [
    "#python program to check if a number is an armstrong number\n",
    "n=int(input(\"enter the number: \"))\n",
    "temp=n\n",
    "sum=0\n",
    "while(temp>0):\n",
    "    i=temp%10\n",
    "    sum=sum+pow(i,3)\n",
    "    temp=temp//10\n",
    "if(n==sum):\n",
    "    print(n,\"is an armstrong number\")\n",
    "else:\n",
    "    print(n,\"is not an armstrong number\")\n"
   ]
  },
  {
   "cell_type": "code",
   "execution_count": 5,
   "id": "5929707f",
   "metadata": {},
   "outputs": [
    {
     "name": "stdout",
     "output_type": "stream",
     "text": [
      "enter the string: mathematics\n",
      "count of the vowels are : 4\n"
     ]
    }
   ],
   "source": [
    "#python program to count the number of vowels present in a string using sets\n",
    "a=input(\"enter the string: \")\n",
    "count=0\n",
    "vowels=set(\"aeiou\")\n",
    "for i in a:\n",
    "    if i in vowels:\n",
    "        count=count+1\n",
    "print(\"count of the vowels are :\",count)"
   ]
  },
  {
   "cell_type": "code",
   "execution_count": null,
   "id": "75741985",
   "metadata": {},
   "outputs": [],
   "source": []
  },
  {
   "cell_type": "code",
   "execution_count": null,
   "id": "d88e379e",
   "metadata": {},
   "outputs": [],
   "source": []
  }
 ],
 "metadata": {
  "kernelspec": {
   "display_name": "Python 3",
   "language": "python",
   "name": "python3"
  },
  "language_info": {
   "codemirror_mode": {
    "name": "ipython",
    "version": 3
   },
   "file_extension": ".py",
   "mimetype": "text/x-python",
   "name": "python",
   "nbconvert_exporter": "python",
   "pygments_lexer": "ipython3",
   "version": "3.8.8"
  }
 },
 "nbformat": 4,
 "nbformat_minor": 5
}
